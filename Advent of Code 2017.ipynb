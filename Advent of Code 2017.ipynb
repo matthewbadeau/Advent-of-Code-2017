{
 "cells": [
  {
   "cell_type": "markdown",
   "metadata": {},
   "source": [
    "# --- Day 1: Inverse Captcha ---\n",
    "\n",
    "The night before Christmas, one of Santa's Elves calls you in a panic. \"The printer's broken! We can't print the Naughty or Nice List!\" By the time you make it to sub-basement 17, there are only a few minutes until midnight. \"We have a big problem,\" she says; \"there must be almost fifty bugs in this system, but nothing else can print The List. Stand in this square, quick! There's no time to explain; if you can convince them to pay you in stars, you'll be able to--\" She pulls a lever and the world goes blurry.\n",
    "\n",
    "When your eyes can focus again, everything seems a lot more pixelated than before. She must have sent you inside the computer! You check the system clock: 25 milliseconds until midnight. With that much time, you should be able to collect all fifty stars by December 25th.\n",
    "\n",
    "Collect stars by solving puzzles. Two puzzles will be made available on each day millisecond in the advent calendar; the second puzzle is unlocked when you complete the first. Each puzzle grants one star. Good luck!\n",
    "\n",
    "You're standing in a room with \"digitization quarantine\" written in LEDs along one wall. The only door is locked, but it includes a small interface. \"Restricted Area - Strictly No Digitized Users Allowed.\"\n",
    "\n",
    "It goes on to explain that you may only leave by solving a captcha to prove you're not a human. Apparently, you only get one millisecond to solve the captcha: too fast for a normal human, but it feels like hours to you.\n",
    "\n",
    "The captcha requires you to review a sequence of digits (your puzzle input) and find the sum of all digits that match the next digit in the list. The list is circular, so the digit after the last digit is the first digit in the list.\n",
    "\n",
    "For example:\n",
    "\n",
    "``1122`` produces a sum of 3 (1 + 2) because the first digit (1) matches the second digit and the third digit (2) matches the fourth digit.  \n",
    "``1111`` produces 4 because each digit (all 1) matches the next.  \n",
    "``1234`` produces 0 because no digit matches the next.  \n",
    "``91212129`` produces 9 because the only digit that matches the next one is the last digit, 9.  \n",
    "\n",
    "What is the solution to your captcha?  "
   ]
  },
  {
   "cell_type": "code",
   "execution_count": 1,
   "metadata": {},
   "outputs": [
    {
     "name": "stdout",
     "output_type": "stream",
     "text": [
      "1034\n"
     ]
    }
   ],
   "source": [
    "import functools\n",
    "\n",
    "sum3 = 1122\n",
    "sum4 = 1111\n",
    "sum0 = 0\n",
    "sum9 = 91212129\n",
    "\n",
    "numStream = \"428122498997587283996116951397957933569136949848379417125362532269869461185743113733992331379856446362482129646556286611543756564275715359874924898113424472782974789464348626278532936228881786273586278886575828239366794429223317476722337424399239986153675275924113322561873814364451339186918813451685263192891627186769818128715595715444565444581514677521874935942913547121751851631373316122491471564697731298951989511917272684335463436218283261962158671266625299188764589814518793576375629163896349665312991285776595142146261792244475721782941364787968924537841698538288459355159783985638187254653851864874544584878999193242641611859756728634623853475638478923744471563845635468173824196684361934269459459124269196811512927442662761563824323621758785866391424778683599179447845595931928589255935953295111937431266815352781399967295389339626178664148415561175386725992469782888757942558362117938629369129439717427474416851628121191639355646394276451847131182652486561415942815818785884559193483878139351841633366398788657844396925423217662517356486193821341454889283266691224778723833397914224396722559593959125317175899594685524852419495793389481831354787287452367145661829287518771631939314683137722493531318181315216342994141683484111969476952946378314883421677952397588613562958741328987734565492378977396431481215983656814486518865642645612413945129485464979535991675776338786758997128124651311153182816188924935186361813797251997643992686294724699281969473142721116432968216434977684138184481963845141486793996476793954226225885432422654394439882842163295458549755137247614338991879966665925466545111899714943716571113326479432925939227996799951279485722836754457737668191845914566732285928453781818792236447816127492445993945894435692799839217467253986218213131249786833333936332257795191937942688668182629489191693154184177398186462481316834678733713614889439352976144726162214648922159719979143735815478633912633185334529484779322818611438194522292278787653763328944421516569181178517915745625295158611636365253948455727653672922299582352766484\"\n",
    "\n",
    "#numStream = str(sum9)\n",
    "\n",
    "def captcha(iterable):\n",
    "    saved = []\n",
    "    for idx, element in enumerate(iterable): #idx is the index\n",
    "        saved.append([element, iterable[idx - 1]]) #pair the next number\n",
    "    return functools.reduce(lambda x, y: x+y,[int(i[0]) for i in saved if i[0] == i[1]])\n",
    "                                            # returns an array of numbers if the number equals the number in its pair\n",
    "                    # reduce the array by adding each value to the next\n",
    "\n",
    "print(captcha(numStream))"
   ]
  },
  {
   "cell_type": "markdown",
   "metadata": {},
   "source": [
    "## --- Part Two ---\n",
    "\n",
    "You notice a progress bar that jumps to 50% completion. Apparently, the door isn't yet satisfied, but it did emit a star as encouragement. The instructions change:\n",
    "\n",
    "Now, instead of considering the next digit, it wants you to consider the digit halfway around the circular list. That is, if your list contains 10 items, only include a digit in your sum if the digit 10/2 = 5 steps forward matches it. Fortunately, your list has an even number of elements.\n",
    "\n",
    "For example:\n",
    "\n",
    "``1212`` produces 6: the list contains 4 items, and all four digits match the digit 2 items ahead.  \n",
    "``1221`` produces 0, because every comparison is between a 1 and a 2.  \n",
    "``123425`` produces 4, because both 2s match each other, but no other digit has a match.  \n",
    "``123123`` produces 12.  \n",
    "``12131415`` produces 4.  \n",
    "What is the solution to your new captcha?  "
   ]
  },
  {
   "cell_type": "code",
   "execution_count": 2,
   "metadata": {},
   "outputs": [
    {
     "name": "stdout",
     "output_type": "stream",
     "text": [
      "1356\n"
     ]
    }
   ],
   "source": [
    "import itertools\n",
    "\n",
    "sum6 = 1212\n",
    "sum0 = 1221\n",
    "sum4 = 123425\n",
    "sum12 = 123123\n",
    "sum4two = 12131415\n",
    "\n",
    "#numStream = str(sum4two)\n",
    "\n",
    "def captcha(iterable):\n",
    "    saved = []\n",
    "    for idx, element in enumerate(iterable):\n",
    "        saved.append([element, iterable[-len(iterable)+(idx + (len(iterable)) // 2)]])\n",
    "                                        # If len = 4 and index is 1 then this would return\n",
    "                                        # [-4 + (1 + (4 /2 )) = -1] - the last number in the array\n",
    "                                        # If len = 8 and index is 4 then this would return\n",
    "                                        # [-8 + (4 + (8 /2)) = 0] the first number in the array\n",
    "    return functools.reduce(lambda x, y: x+y,[int(i[0]) for i in saved if i[0] == i[1]])\n",
    "\n",
    "print(captcha(numStream))"
   ]
  },
  {
   "cell_type": "markdown",
   "metadata": {},
   "source": [
    "# --- Day 2: Corruption Checksum ---\n",
    "\n",
    "As you walk through the door, a glowing humanoid shape yells in your direction. \"You there! Your state appears to be idle. Come help us repair the corruption in this spreadsheet - if we take another millisecond, we'll have to display an hourglass cursor!\"\n",
    "\n",
    "The spreadsheet consists of rows of apparently-random numbers. To make sure the recovery process is on the right track, they need you to calculate the spreadsheet's checksum. For each row, determine the difference between the largest value and the smallest value; the checksum is the sum of all of these differences.\n",
    "\n",
    "For example, given the following spreadsheet:\n",
    "\n",
    "```\n",
    "5 1 9 5\n",
    "7 5 3\n",
    "2 4 6 8\n",
    "```\n",
    "The first row's largest and smallest values are 9 and 1, and their difference is 8.  \n",
    "The second row's largest and smallest values are 7 and 3, and their difference is 4.  \n",
    "The third row's difference is 6.  \n",
    "In this example, the spreadsheet's checksum would be ```8 + 4 + 6 = 18```.  \n",
    "\n",
    "What is the checksum for the spreadsheet in your puzzle input?"
   ]
  },
  {
   "cell_type": "code",
   "execution_count": 3,
   "metadata": {},
   "outputs": [
    {
     "name": "stdout",
     "output_type": "stream",
     "text": [
      "51139\n"
     ]
    }
   ],
   "source": [
    "file = 'day2-input.txt'\n",
    "\n",
    "\n",
    "def checksum(file):\n",
    "    sum = int(0)\n",
    "    with open(file) as f:\n",
    "        for line in f:\n",
    "            newlines = line.split()\n",
    "            for idx, val in enumerate(newlines):\n",
    "                newlines[idx] = int(val)\n",
    "            sum += int(max(newlines)) - int(min(newlines))\n",
    "    return sum\n",
    "    \n",
    "print(checksum(file))"
   ]
  },
  {
   "cell_type": "markdown",
   "metadata": {},
   "source": [
    "## --- Part Two ---\n",
    "\n",
    "\"Great work; looks like we're on the right track after all. Here's a star for your effort.\" However, the program seems a little worried. Can programs be worried?\n",
    "\n",
    "\"Based on what we're seeing, it looks like all the User wanted is some information about the evenly divisible values in the spreadsheet. Unfortunately, none of us are equipped for that kind of calculation - most of us specialize in bitwise operations.\"\n",
    "\n",
    "It sounds like the goal is to find the only two numbers in each row where one evenly divides the other - that is, where the result of the division operation is a whole number. They would like you to find those numbers on each line, divide them, and add up each line's result.\n",
    "\n",
    "For example, given the following spreadsheet:\n",
    "\n",
    "5 9 2 8\n",
    "9 4 7 3\n",
    "3 8 6 5\n",
    "In the first row, the only two numbers that evenly divide are 8 and 2; the result of this division is 4.\n",
    "In the second row, the two numbers are 9 and 3; the result is 3.\n",
    "In the third row, the result is 2.\n",
    "In this example, the sum of the results would be 4 + 3 + 2 = 9.\n",
    "\n",
    "What is the sum of each row's result in your puzzle input?"
   ]
  },
  {
   "cell_type": "code",
   "execution_count": 4,
   "metadata": {},
   "outputs": [
    {
     "name": "stdout",
     "output_type": "stream",
     "text": [
      "272.0\n"
     ]
    }
   ],
   "source": [
    "file = 'day2-input.txt'\n",
    "def modchecksum(file):\n",
    "    sum = int(0)\n",
    "    with open(file) as f:\n",
    "        for line in f:\n",
    "            newlines = line.split()\n",
    "            for idx, val in enumerate(newlines):\n",
    "                brk = False\n",
    "                for nidx, nval in enumerate(newlines):\n",
    "                    if max([int(nval), int(val)]) % min([int(nval), int(val)]) == 0 and idx != nidx and val != nval:\n",
    "                        vals = [int(nval), int(val)]\n",
    "                        sum += max(vals) / min(vals)\n",
    "                        brk = True\n",
    "                if brk:\n",
    "                    break\n",
    "    return sum\n",
    "    \n",
    "print(modchecksum(file))"
   ]
  },
  {
   "cell_type": "markdown",
   "metadata": {},
   "source": [
    "# --- Day 3: Spiral Memory ---\n",
    "\n",
    "You come across an experimental new kind of memory stored on an infinite two-dimensional grid.\n",
    "\n",
    "Each square on the grid is allocated in a spiral pattern starting at a location marked 1 and then counting up while spiraling outward. For example, the first few squares are allocated like this:\n",
    "```\n",
    "17  16  15  14  13\n",
    "18   5   4   3  12\n",
    "19   6   1   2  11\n",
    "20   7   8   9  10\n",
    "21  22  23---> ...\n",
    "\n",
    "37  36  35  34  33  32  31\n",
    "38  17  16  15  14  13  30\n",
    "39  18   5   4   3  12  29\n",
    "40  19   6   1   2  11  28\n",
    "41  20   7   8   9  10  27\n",
    "42  21  22  23  24  25  26\n",
    "43  44  45  46  47  48  49  50\n",
    "```\n",
    "While this is very space-efficient (no squares are skipped), requested data must be carried back to square 1 (the location of the only access port for this memory system) by programs that can only move up, down, left, or right. They always take the shortest path: the Manhattan Distance between the location of the data and square 1.\n",
    "\n",
    "For example:\n",
    "\n",
    "Data from square 1 is carried 0 steps, since it's at the access port.  \n",
    "Data from square 12 is carried 3 steps, such as: down, left, left.  \n",
    "Data from square 23 is carried only 2 steps: up twice.  \n",
    "Data from square 1024 must be carried 31 steps.  \n",
    "How many steps are required to carry the data from the square identified in your puzzle input all the way to the access port?  \n",
    "  \n",
    "Your puzzle input is ``325489``."
   ]
  },
  {
   "cell_type": "code",
   "execution_count": 11,
   "metadata": {},
   "outputs": [
    {
     "name": "stdout",
     "output_type": "stream",
     "text": [
      "moves:  552\n"
     ]
    }
   ],
   "source": [
    "import math\n",
    "\n",
    "val = 325489\n",
    "def findMoves(value):\n",
    "    biggestSq = floor(math.sqrt(value))\n",
    "    if floor(sqrt(value)) % 2 == 0:\n",
    "        biggestSq = floor(sqrt(value)) - 1\n",
    "    nextBiggestSq = biggestSq + 2\n",
    "\n",
    "    if(sqrt(value) == biggestSq):\n",
    "        print(\"moves: \", biggestSq - 1)\n",
    "    else:\n",
    "        diffFromSqMax = (nextBiggestSq ** 2) - value\n",
    "        sqSizes = (((nextBiggestSq ** 2) - (biggestSq ** 2)) // 4)\n",
    "        corners = list(range((biggestSq ** 2) + sqSizes, (nextBiggestSq ** 2) + sqSizes, sqSizes))\n",
    "\n",
    "        for i in corners:\n",
    "            if (value - i) % sqSizes == 0:\n",
    "                print(\"moves: \", biggestSq - 1)\n",
    "                break\n",
    "            elif value < i and not i - value >= sqSizes:\n",
    "                center = (i - (sqSizes // 2))\n",
    "                movesFromCenter = abs(center - value)\n",
    "                print(\"moves: \", movesFromCenter + ((nextBiggestSq - 1) // 2))\n",
    "                break\n",
    "\n",
    "findMoves(val)"
   ]
  },
  {
   "cell_type": "markdown",
   "metadata": {},
   "source": [
    "## --- Part Two ---\n",
    "\n",
    "As a stress test on the system, the programs here clear the grid and then store the value 1 in square 1. Then, in the same allocation order as shown above, they store the sum of the values in all adjacent squares, including diagonals.\n",
    "\n",
    "So, the first few squares' values are chosen as follows:\n",
    "\n",
    "Square 1 starts with the value 1.  \n",
    "Square 2 has only one adjacent filled square (with value 1), so it also stores 1.  \n",
    "Square 3 has both of the above squares as neighbors and stores the sum of their values, 2.  \n",
    "Square 4 has all three of the aforementioned squares as neighbors and stores the sum of their values, 4.  \n",
    "Square 5 only has the first and fourth squares as neighbors, so it gets the value 5.  \n",
    "Once a square is written, its value does not change. Therefore, the first few squares would receive the following values:  \n",
    "```\n",
    "147  142  133  122   59\n",
    "304    5    4    2   57\n",
    "330   10    1    1   54\n",
    "351   11   23   25   26\n",
    "362  747  806--->   ...\n",
    "\n",
    "147  142  133  122   59\n",
    "304    5    4    2   57\n",
    "330   10    1    1   54\n",
    "351   11   23   25   26    \n",
    "362  747  806  880   931   957\n",
    "```\n",
    "What is the first value written that is larger than your puzzle input?\n",
    "\n",
    "Your puzzle input is still 325489."
   ]
  },
  {
   "cell_type": "code",
   "execution_count": 12,
   "metadata": {
    "scrolled": true
   },
   "outputs": [
    {
     "name": "stdout",
     "output_type": "stream",
     "text": [
      "[1, 1, 2, 4, 5, 10, 11, 23, 25, 31, 43, 61, 97, 109, 127, 163, 169, 181, 199, 235, 241, 253, 271, 307, 313, 325, 343, 379, 385, 397, 415, 451, 457, 469, 487, 523, 529, 541, 559, 595, 601, 613, 631, 667, 673, 685, 703, 739, 745, 757, 775, 811, 817, 829, 847]\n"
     ]
    }
   ],
   "source": [
    "from math import sqrt, floor, ceil\n",
    "val = 800\n",
    "\n",
    "def sumOfNeighbors(maxVal):\n",
    "    newList = [1, 1, 2, 4, 5, 10, 11, 23, 25]\n",
    "    prevSqSize = 3\n",
    "    nextSqSize = 5\n",
    "    while newList[-1] < maxVal:\n",
    "        currPositionIndex = len(newList) - 1\n",
    "        if floor(sqrt(len(newList))) >= prevSqSize:\n",
    "            floor(sqrt(len(newList)))\n",
    "            if prevSqSize % 2 == 0:\n",
    "                prevSqSize += 1\n",
    "            nextSqSize = prevSqSize + 2\n",
    "        prevSqSteps = ((prevSqSize ** 2) - ((prevSqSize - 2) ** 2)) // 4\n",
    "        nextSqSteps = ((nextSqSize ** 2) - (prevSqSize ** 2)) // 4\n",
    "        distanceFromEnd = 0\n",
    "        prevSqCorners = range(prevSqSteps * (prevSqSize ** 2))\n",
    "        nextSqCorners = range(nextSqSteps * (nextSqSize ** 2))\n",
    "#         print(currPositionIndex)\n",
    "        \n",
    "#         print(\"prev sq size:\", prevSqSize)\n",
    "#         print(\"next sq size:\", nextSqSize)\n",
    "#         print(\"prev sq steps:\", prevSqSteps)\n",
    "#         print(\"next sq steps:\", nextSqSteps)\n",
    "#         print(\"prev sq corners:\", prevSqCorners)\n",
    "#         print(\"next sq corners:\", nextSqCorners)\n",
    "        for idx, c in enumerate(range((prevSqSize ** 2), (nextSqSize ** 2), nextSqSteps)):\n",
    "            distanceFromEnd = max([i - currPositionIndex for i in nextSqCorners])\n",
    "            if max(c, currPositionIndex) == c:\n",
    "                distanceFromEnd = nextSqCorners[c] - currPositionIndex\n",
    "            if distanceFromEnd > 2:\n",
    "#                 print(\"close to the end\")\n",
    "                newList.append(\n",
    "                    (prevSqSteps * prevSqCorners[idx]) +\n",
    "                    (prevSqSteps * prevSqCorners[idx - 1]) +\n",
    "                    (prevSqSteps * prevSqCorners[idx + 1]) +\n",
    "                    newList[-1]\n",
    "                )\n",
    "            elif distanceFromEnd == prevSqCorners[idx] - 1:\n",
    "#                 print(\"one from the end\")\n",
    "                newList.append(\n",
    "                    (prevSqSteps * prevSqCorners[idx]) +\n",
    "                    (prevSqSteps * prevSqCorners[idx - 1]) +\n",
    "                    newList[-1]\n",
    "                )\n",
    "            elif distanceFromEnd == 0:\n",
    "#                 print(\"the end\")\n",
    "                newList.append(\n",
    "                    (prevSqSteps * prevSqCorners[idx]) +\n",
    "                    newList[-1]\n",
    "                )\n",
    "    return newList\n",
    "\n",
    "print(sumOfNeighbors(val))"
   ]
  },
  {
   "cell_type": "markdown",
   "metadata": {},
   "source": [
    "# --- Day 4: High-Entropy Passphrases ---\n",
    "\n",
    "A new system policy has been put in place that requires all accounts to use a passphrase instead of simply a password. A passphrase consists of a series of words (lowercase letters) separated by spaces.\n",
    "\n",
    "To ensure security, a valid passphrase must contain no duplicate words.\n",
    "\n",
    "For example:\n",
    "\n",
    "``aa bb cc dd ee`` is valid.  \n",
    "``aa bb cc dd aa`` is not valid - the word aa appears more than once.  \n",
    "``aa bb cc dd aaa`` is valid - aa and aaa count as different words.  \n",
    "The system's full passphrase list is available as your puzzle input. How many passphrases are valid?  "
   ]
  },
  {
   "cell_type": "code",
   "execution_count": 13,
   "metadata": {},
   "outputs": [
    {
     "name": "stdout",
     "output_type": "stream",
     "text": [
      "337\n"
     ]
    }
   ],
   "source": [
    "file = 'day4-input.txt'\n",
    "\n",
    "sumW = 0\n",
    "\n",
    "for l in open(file):\n",
    "    sumW += 1\n",
    "    words = l.split()\n",
    "    for idx, word in enumerate(words):\n",
    "        indices = [i for i, x in enumerate(words) if x == word]\n",
    "        if len(indices) > 1:\n",
    "            sumW -= 1\n",
    "            break\n",
    "        \n",
    "            \n",
    "print(sumW)"
   ]
  },
  {
   "cell_type": "markdown",
   "metadata": {},
   "source": [
    "### --- Part Two ---\n",
    "\n",
    "For added security, yet another system policy has been put in place. Now, a valid passphrase must contain no two words that are anagrams of each other - that is, a passphrase is invalid if any word's letters can be rearranged to form any other word in the passphrase.\n",
    "\n",
    "For example:\n",
    "\n",
    "``abcde fghij`` is a valid passphrase.  \n",
    "``abcde xyz ecdab`` is not valid - the letters from the third word can be rearranged to form the first word.  \n",
    "``a ab abc abd abf abj`` is a valid passphrase, because all letters need to be used when forming another word.  \n",
    "``iiii oiii ooii oooi oooo`` is valid.  \n",
    "``oiii ioii iioi iiio`` is not valid - any of these words can be rearranged to form any other word.  \n",
    "Under this new system policy, how many passphrases are valid?\n",
    "\n",
    "Although it hasn't changed, you can still get your puzzle input."
   ]
  },
  {
   "cell_type": "code",
   "execution_count": 14,
   "metadata": {},
   "outputs": [
    {
     "name": "stdout",
     "output_type": "stream",
     "text": [
      "221\n"
     ]
    }
   ],
   "source": [
    "sumW = 0\n",
    "for l in open(file):\n",
    "    sumW += 1\n",
    "    words = l.split()\n",
    "    reset = False\n",
    "    for idx, word in enumerate(words):\n",
    "        if idx + 1 == len(words):\n",
    "            break\n",
    "        if reset:\n",
    "            sumW -= 1\n",
    "            break\n",
    "        lists = [x for i, x in enumerate(words) if sum([ord(c) for c in list(x)]) == sum([ord(d) for d in list(words[idx])]) and i != idx ]\n",
    "        if lists:\n",
    "            reset = True\n",
    "\n",
    "print(sumW)"
   ]
  },
  {
   "cell_type": "markdown",
   "metadata": {},
   "source": [
    "# --- Day 5: A Maze of Twisty Trampolines, All Alike ---\n",
    "\n",
    "An urgent interrupt arrives from the CPU: it's trapped in a maze of jump instructions, and it would like assistance from any programs with spare cycles to help find the exit.\n",
    "\n",
    "The message includes a list of the offsets for each jump. Jumps are relative: -1 moves to the previous instruction, and 2 skips the next one. Start at the first instruction in the list. The goal is to follow the jumps until one leads outside the list.\n",
    "\n",
    "In addition, these instructions are a little strange; after each jump, the offset of that instruction increases by 1. So, if you come across an offset of 3, you would move three instructions forward, but change it to a 4 for the next time it is encountered.\n",
    "\n",
    "For example, consider the following list of jump offsets:\n",
    "```\n",
    "0\n",
    "3\n",
    "0\n",
    "1\n",
    "-3\n",
    "```\n",
    "Positive jumps (\"forward\") move downward; negative jumps move upward. For legibility in this example, these offset values will be written all on one line, with the current instruction marked in parentheses. The following steps would be taken before an exit is found:\n",
    "\n",
    "``(0) 3  0  1  -3``  - before we have taken any steps.  \n",
    "``(1) 3  0  1  -3``  - jump with offset 0 (that is, don't jump at all). Fortunately, the instruction is then incremented to 1.  \n",
    "`` 2 (3) 0  1  -3``  - step forward because of the instruction we just modified. The first instruction is incremented again, now to 2.  \n",
    "`` 2  4  0  1 (-3)`` - jump all the way to the end; leave a 4 behind.  \n",
    "`` 2 (4) 0  1  -2``  - go back to where we just were; increment -3 to -2.  \n",
    "`` 2  5  0  1  -2``  - jump 4 steps forward, escaping the maze.  \n",
    "In this example, the exit is reached in 5 steps.  \n",
    "\n",
    "How many steps does it take to reach the exit?"
   ]
  },
  {
   "cell_type": "code",
   "execution_count": 16,
   "metadata": {},
   "outputs": [
    {
     "name": "stdout",
     "output_type": "stream",
     "text": [
      "359348\n"
     ]
    }
   ],
   "source": [
    "file = 'day5-input.txt'\n",
    "\n",
    "jumps = []\n",
    "for line in open(file):\n",
    "    jumps.append(int(line))\n",
    "\n",
    "# jumps = [0, 3, 0, 1, -3]\n",
    "\n",
    "steps = 0\n",
    "idx = 0\n",
    "\n",
    "try:\n",
    "    while idx < len(jumps):\n",
    "        pidx = idx\n",
    "        idx += jumps[idx]\n",
    "        jumps[pidx] += 1\n",
    "        steps += 1\n",
    "except IndexError:\n",
    "    print(steps)\n",
    "\n",
    "print(steps)"
   ]
  },
  {
   "cell_type": "markdown",
   "metadata": {},
   "source": [
    "## --- Part Two ---\n",
    "\n",
    "Now, the jumps are even stranger: after each jump, if the offset was three or more, instead decrease it by 1. Otherwise, increase it by 1 as before.\n",
    "\n",
    "Using this rule with the above example, the process now takes 10 steps, and the offset values after finding the exit are left as `2 3 2 3 -1.`\n",
    "\n",
    "How many steps does it now take to reach the exit?"
   ]
  },
  {
   "cell_type": "code",
   "execution_count": 17,
   "metadata": {},
   "outputs": [
    {
     "name": "stdout",
     "output_type": "stream",
     "text": [
      "27688760\n"
     ]
    }
   ],
   "source": [
    "file = 'day5-input.txt'\n",
    "\n",
    "jumps = []\n",
    "for line in open(file):\n",
    "    jumps.append(int(line))\n",
    "\n",
    "# jumps = [0, 3, 0, 1, -3]\n",
    "\n",
    "steps = 0\n",
    "idx = 0\n",
    "\n",
    "try:\n",
    "    while idx < len(jumps):\n",
    "        pidx = idx\n",
    "        idx += jumps[idx]\n",
    "        if jumps[pidx] >= 3:\n",
    "            jumps[pidx] -= 1\n",
    "        else:\n",
    "            jumps[pidx] += 1\n",
    "        steps += 1\n",
    "except IndexError:\n",
    "    print(steps)\n",
    "\n",
    "print(steps)"
   ]
  },
  {
   "cell_type": "markdown",
   "metadata": {},
   "source": [
    "# --- Day 6: Memory Reallocation ---\n",
    "\n",
    "A debugger program here is having an issue: it is trying to repair a memory reallocation routine, but it keeps getting stuck in an infinite loop.  \n",
    "\n",
    "In this area, there are sixteen memory banks; each memory bank can hold any number of blocks. The goal of the reallocation routine is to balance the blocks between the memory banks.  \n",
    "\n",
    "The reallocation routine operates in cycles. In each cycle, it finds the memory bank with the most blocks (ties won by the lowest-numbered memory bank) and redistributes those blocks among the banks. To do this, it removes all of the blocks from the selected bank, then moves to the next (by index) memory bank and inserts one of the blocks. It continues doing this until it runs out of blocks; if it reaches the last memory bank, it wraps around to the first one.  \n",
    "\n",
    "The debugger would like to know how many redistributions can be done before a blocks-in-banks configuration is produced that has been seen before.  \n",
    "\n",
    "For example, imagine a scenario with only four memory banks:  \n",
    "\n",
    "- The banks start with 0, 2, 7, and 0 blocks. The third bank has the most blocks, so it is chosen for redistribution.  \n",
    "- vStarting with the next bank (the fourth bank) and then continuing to the first bank, the second bank, and so on, the 7 blocks are spread out over the memory banks. The fourth, first, and second banks get two blocks each, and the third bank gets one back. The final result looks like this: 2 4 1 2.  \n",
    "- Next, the second bank is chosen because it contains the most blocks (four). Because there are four memory banks, each gets one block. The result is: 3 1 2 3.  \n",
    "- Now, there is a tie between the first and fourth memory banks, both of which have three blocks. The first bank wins the tie, and its three blocks are distributed evenly over the other three banks, leaving it with none: 0 2 3 4.  \n",
    "- The fourth bank is chosen, and its four blocks are distributed such that each of the four banks receives one: 1 3 4 1.  \n",
    "- The third bank is chosen, and the same thing happens: 2 4 1 2.  \n",
    "At this point, we've reached a state we've seen before: 2 4 1 2 was already seen. The infinite loop is detected after the fifth block redistribution cycle, and so the answer in this example is 5.  \n",
    "\n",
    "Given the initial block counts in your puzzle input, how many redistribution cycles must be completed before a configuration is produced that has been seen before?"
   ]
  },
  {
   "cell_type": "code",
   "execution_count": null,
   "metadata": {
    "collapsed": true
   },
   "outputs": [],
   "source": [
    "file = 'day6-input.txt'"
   ]
  },
  {
   "cell_type": "code",
   "execution_count": null,
   "metadata": {
    "collapsed": true
   },
   "outputs": [],
   "source": []
  },
  {
   "cell_type": "code",
   "execution_count": null,
   "metadata": {
    "collapsed": true
   },
   "outputs": [],
   "source": []
  },
  {
   "cell_type": "code",
   "execution_count": null,
   "metadata": {
    "collapsed": true
   },
   "outputs": [],
   "source": []
  }
 ],
 "metadata": {
  "kernelspec": {
   "display_name": "Python 3",
   "language": "python",
   "name": "python3"
  },
  "language_info": {
   "codemirror_mode": {
    "name": "ipython",
    "version": 3
   },
   "file_extension": ".py",
   "mimetype": "text/x-python",
   "name": "python",
   "nbconvert_exporter": "python",
   "pygments_lexer": "ipython3",
   "version": "3.6.3"
  }
 },
 "nbformat": 4,
 "nbformat_minor": 2
}
