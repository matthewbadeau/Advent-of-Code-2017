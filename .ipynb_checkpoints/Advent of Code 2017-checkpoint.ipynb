{
 "cells": [
  {
   "cell_type": "markdown",
   "metadata": {},
   "source": [
    "--- Day 2: Corruption Checksum ---\n",
    "\n",
    "As you walk through the door, a glowing humanoid shape yells in your direction. \"You there! Your state appears to be idle. Come help us repair the corruption in this spreadsheet - if we take another millisecond, we'll have to display an hourglass cursor!\"\n",
    "\n",
    "The spreadsheet consists of rows of apparently-random numbers. To make sure the recovery process is on the right track, they need you to calculate the spreadsheet's checksum. For each row, determine the difference between the largest value and the smallest value; the checksum is the sum of all of these differences.\n",
    "\n",
    "For example, given the following spreadsheet:\n",
    "\n",
    "```\n",
    "5 1 9 5\n",
    "7 5 3\n",
    "2 4 6 8\n",
    "```\n",
    "The first row's largest and smallest values are 9 and 1, and their difference is 8.  \n",
    "The second row's largest and smallest values are 7 and 3, and their difference is 4.  \n",
    "The third row's difference is 6.  \n",
    "In this example, the spreadsheet's checksum would be ```8 + 4 + 6 = 18```.  \n",
    "\n",
    "What is the checksum for the spreadsheet in your puzzle input?"
   ]
  },
  {
   "cell_type": "code",
   "execution_count": null,
   "metadata": {
    "collapsed": true
   },
   "outputs": [],
   "source": [
    "file = 'day2-input.txt'\n",
    "\n",
    "\n",
    "def checksum(file):\n",
    "    sum = int(0)\n",
    "    with open(file) as f:\n",
    "        for line in f:\n",
    "            newlines = line.split()\n",
    "            for idx, val in enumerate(newlines):\n",
    "                newlines[idx] = int(val)\n",
    "            sum += int(max(newlines)) - int(min(newlines))\n",
    "    return sum\n",
    "    \n",
    "print(checksum(file))"
   ]
  },
  {
   "cell_type": "markdown",
   "metadata": {},
   "source": [
    "--- Part Two ---\n",
    "\n",
    "\"Great work; looks like we're on the right track after all. Here's a star for your effort.\" However, the program seems a little worried. Can programs be worried?\n",
    "\n",
    "\"Based on what we're seeing, it looks like all the User wanted is some information about the evenly divisible values in the spreadsheet. Unfortunately, none of us are equipped for that kind of calculation - most of us specialize in bitwise operations.\"\n",
    "\n",
    "It sounds like the goal is to find the only two numbers in each row where one evenly divides the other - that is, where the result of the division operation is a whole number. They would like you to find those numbers on each line, divide them, and add up each line's result.\n",
    "\n",
    "For example, given the following spreadsheet:\n",
    "\n",
    "5 9 2 8\n",
    "9 4 7 3\n",
    "3 8 6 5\n",
    "In the first row, the only two numbers that evenly divide are 8 and 2; the result of this division is 4.\n",
    "In the second row, the two numbers are 9 and 3; the result is 3.\n",
    "In the third row, the result is 2.\n",
    "In this example, the sum of the results would be 4 + 3 + 2 = 9.\n",
    "\n",
    "What is the sum of each row's result in your puzzle input?"
   ]
  },
  {
   "cell_type": "code",
   "execution_count": 9,
   "metadata": {},
   "outputs": [
    {
     "name": "stdout",
     "output_type": "stream",
     "text": [
      "272.0\n"
     ]
    }
   ],
   "source": [
    "file = 'day2-input.txt'\n",
    "def modchecksum(file):\n",
    "    sum = int(0)\n",
    "    with open(file) as f:\n",
    "        for line in f:\n",
    "            newlines = line.split()\n",
    "            for idx, val in enumerate(newlines):\n",
    "                brk = False\n",
    "                for nidx, nval in enumerate(newlines):\n",
    "                    if max([int(nval), int(val)]) % min([int(nval), int(val)]) == 0 and idx != nidx and val != nval:\n",
    "                        vals = [int(nval), int(val)]\n",
    "                        sum += max(vals) / min(vals)\n",
    "                        brk = True\n",
    "                if brk:\n",
    "                    break\n",
    "    return sum\n",
    "    \n",
    "print(modchecksum(file))"
   ]
  },
  {
   "cell_type": "markdown",
   "metadata": {},
   "source": [
    "--- Day 3: Spiral Memory ---\n",
    "\n",
    "You come across an experimental new kind of memory stored on an infinite two-dimensional grid.\n",
    "\n",
    "Each square on the grid is allocated in a spiral pattern starting at a location marked 1 and then counting up while spiraling outward. For example, the first few squares are allocated like this:\n",
    "```\n",
    "17  16  15  14  13\n",
    "18   5   4   3  12\n",
    "19   6   1   2  11\n",
    "20   7   8   9  10\n",
    "21  22  23---> ...\n",
    "\n",
    "37  36  35  34  33  32  31\n",
    "38  17  16  15  14  13  30\n",
    "39  18   5   4   3  12  29\n",
    "40  19   6   1   2  11  28\n",
    "41  20   7   8   9  10  27\n",
    "42  21  22  23  24  25  26\n",
    "43  44  45  45  47  48  49  50\n",
    "```\n",
    "While this is very space-efficient (no squares are skipped), requested data must be carried back to square 1 (the location of the only access port for this memory system) by programs that can only move up, down, left, or right. They always take the shortest path: the Manhattan Distance between the location of the data and square 1.\n",
    "\n",
    "For example:\n",
    "\n",
    "Data from square 1 is carried 0 steps, since it's at the access port.  \n",
    "Data from square 12 is carried 3 steps, such as: down, left, left.  \n",
    "Data from square 23 is carried only 2 steps: up twice.  \n",
    "Data from square 1024 must be carried 31 steps.  \n",
    "How many steps are required to carry the data from the square identified in your puzzle input all the way to the access port?  \n",
    "  \n",
    "Your puzzle input is ``325489``."
   ]
  },
  {
   "cell_type": "code",
   "execution_count": 308,
   "metadata": {},
   "outputs": [
    {
     "ename": "SyntaxError",
     "evalue": "invalid syntax (<ipython-input-308-ca5f17b5fe4f>, line 32)",
     "output_type": "error",
     "traceback": [
      "\u001b[0;36m  File \u001b[0;32m\"<ipython-input-308-ca5f17b5fe4f>\"\u001b[0;36m, line \u001b[0;32m32\u001b[0m\n\u001b[0;31m    print(max(list[i, center]) - val)\u001b[0m\n\u001b[0m        ^\u001b[0m\n\u001b[0;31mSyntaxError\u001b[0m\u001b[0;31m:\u001b[0m invalid syntax\n"
     ]
    }
   ],
   "source": [
    "from math import floor, sqrt\n",
    "\n",
    "val = 325489\n",
    "val = 41\n",
    "\n",
    "biggestSq = floor(math.sqrt(val))\n",
    "if floor(sqrt(val)) % 2 == 0:\n",
    "    biggestSq = floor(sqrt(val)) - 1\n",
    "nextBiggestSq = biggestSq + 2\n",
    "\n",
    "if(sqrt(val) == biggestSq):\n",
    "    print(biggestSq - 1)\n",
    "else:\n",
    "    print(\"sq: \", biggestSq)\n",
    "    print(\"next sq: \", nextBiggestSq)\n",
    "\n",
    "    diffFromSqMax = (nextBiggestSq ** 2) - val\n",
    "    sqSizes = (((nextBiggestSq ** 2) - (biggestSq ** 2)) // 4)\n",
    "\n",
    "    print(\"diff from next Sq: \", diffFromSqMax)\n",
    "    print(\"sq sizes: \", sqSizes)\n",
    "    print(\"nearest corner: \", list(range(biggestSq ** 2, nextBiggestSq ** 2, sqSizes)))\n",
    "\n",
    "    corners = list(range(biggestSq ** 2, nextBiggestSq ** 2, sqSizes))\n",
    "\n",
    "    for i in corners:\n",
    "        if (val - i) % sqSizes == 0:\n",
    "            print(\"corner: \", biggestSq - 1)\n",
    "            break\n",
    "        elif val < i and not i - val >= sqSizes:\n",
    "            center = (i - (sqSizes // 2)\n",
    "            print(max(list[i, center]) - val)\n",
    "            print(\"max for row: \", i)\n",
    "            break\n",
    "        elif val < (nextBiggestSq ** 2) and not max(corners) > val:\n",
    "            print(\"less than nextBiggest\")\n",
    "            break\n",
    "\n",
    "# if ((nextBiggestSq ** 2) - (biggestSq ** 2)) // 4 == val or ((nextBiggestSq ** 2) - val) % 4 == 0:\n",
    "#     print(nextBiggestSq - 1)\n",
    "# else:\n",
    "#     print(\"else\")\n",
    "#     print(val - biggestSq)\n",
    "\n",
    "# print((((nextBiggestSq ** 2)% 4)))\n",
    "\n"
   ]
  },
  {
   "cell_type": "code",
   "execution_count": null,
   "metadata": {
    "collapsed": true
   },
   "outputs": [],
   "source": []
  }
 ],
 "metadata": {
  "kernelspec": {
   "display_name": "Python 3",
   "language": "python",
   "name": "python3"
  },
  "language_info": {
   "codemirror_mode": {
    "name": "ipython",
    "version": 3
   },
   "file_extension": ".py",
   "mimetype": "text/x-python",
   "name": "python",
   "nbconvert_exporter": "python",
   "pygments_lexer": "ipython3",
   "version": "3.6.3"
  }
 },
 "nbformat": 4,
 "nbformat_minor": 2
}
